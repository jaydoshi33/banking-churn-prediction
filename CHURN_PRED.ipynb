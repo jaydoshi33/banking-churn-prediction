{
  "nbformat": 4,
  "nbformat_minor": 0,
  "metadata": {
    "colab": {
      "provenance": []
    },
    "kernelspec": {
      "name": "python3",
      "display_name": "Python 3"
    },
    "language_info": {
      "name": "python"
    }
  },
  "cells": [
    {
      "cell_type": "code",
      "metadata": {
        "id": "Fc8H-VDT1IQx"
      },
      "source": [
        "# making sure warnings are not displayed in the console\n",
        "\n",
        "def warn(*args, **kwargs):\n",
        "    pass\n",
        "import warnings\n",
        "warnings.warn = warn\n",
        "\n",
        "# importing necessary libraries\n",
        "\n",
        "import numpy as np\n",
        "import pandas as pd\n",
        "import matplotlib.pyplot as plt\n",
        "import seaborn as sns\n",
        "%matplotlib inline"
      ],
      "execution_count": null,
      "outputs": []
    },
    {
      "cell_type": "code",
      "metadata": {
        "colab": {
          "base_uri": "https://localhost:8080/"
        },
        "id": "WCI0ZeC61M8W",
        "outputId": "88f92296-29f0-453c-a624-e2d06cd3df2f"
      },
      "source": [
        "# connecting Google Drive account to Colab notebook\n",
        "\n",
        "from google.colab import drive\n",
        "drive.mount('/content/drive')"
      ],
      "execution_count": null,
      "outputs": [
        {
          "output_type": "stream",
          "text": [
            "Mounted at /content/drive\n"
          ],
          "name": "stdout"
        }
      ]
    },
    {
      "cell_type": "code",
      "metadata": {
        "id": "xHWbvHgO1Pz8"
      },
      "source": [
        "# loading the csv dataset as pandas dataframe\n",
        "# Note: Please update the path to your local file path for this to work\n",
        "\n",
        "data = pd.read_csv('/content/drive/My Drive/Project/Churn_Modelling.csv')"
      ],
      "execution_count": null,
      "outputs": []
    },
    {
      "cell_type": "code",
      "metadata": {
        "colab": {
          "base_uri": "https://localhost:8080/",
          "height": 195
        },
        "id": "95aXd6Cq1eYM",
        "outputId": "706ac91f-3b76-415d-9d8b-d5fc83c83f01"
      },
      "source": [
        "data.head()"
      ],
      "execution_count": null,
      "outputs": [
        {
          "output_type": "execute_result",
          "data": {
            "text/html": [
              "<div>\n",
              "<style scoped>\n",
              "    .dataframe tbody tr th:only-of-type {\n",
              "        vertical-align: middle;\n",
              "    }\n",
              "\n",
              "    .dataframe tbody tr th {\n",
              "        vertical-align: top;\n",
              "    }\n",
              "\n",
              "    .dataframe thead th {\n",
              "        text-align: right;\n",
              "    }\n",
              "</style>\n",
              "<table border=\"1\" class=\"dataframe\">\n",
              "  <thead>\n",
              "    <tr style=\"text-align: right;\">\n",
              "      <th></th>\n",
              "      <th>RowNumber</th>\n",
              "      <th>CustomerId</th>\n",
              "      <th>Surname</th>\n",
              "      <th>CreditScore</th>\n",
              "      <th>Geography</th>\n",
              "      <th>Gender</th>\n",
              "      <th>Age</th>\n",
              "      <th>Tenure</th>\n",
              "      <th>Balance</th>\n",
              "      <th>NumOfProducts</th>\n",
              "      <th>HasCrCard</th>\n",
              "      <th>IsActiveMember</th>\n",
              "      <th>EstimatedSalary</th>\n",
              "      <th>Exited</th>\n",
              "    </tr>\n",
              "  </thead>\n",
              "  <tbody>\n",
              "    <tr>\n",
              "      <th>0</th>\n",
              "      <td>1</td>\n",
              "      <td>15634602</td>\n",
              "      <td>Hargrave</td>\n",
              "      <td>619</td>\n",
              "      <td>France</td>\n",
              "      <td>Female</td>\n",
              "      <td>42</td>\n",
              "      <td>2</td>\n",
              "      <td>0.00</td>\n",
              "      <td>1</td>\n",
              "      <td>1</td>\n",
              "      <td>1</td>\n",
              "      <td>101348.88</td>\n",
              "      <td>1</td>\n",
              "    </tr>\n",
              "    <tr>\n",
              "      <th>1</th>\n",
              "      <td>2</td>\n",
              "      <td>15647311</td>\n",
              "      <td>Hill</td>\n",
              "      <td>608</td>\n",
              "      <td>Spain</td>\n",
              "      <td>Female</td>\n",
              "      <td>41</td>\n",
              "      <td>1</td>\n",
              "      <td>83807.86</td>\n",
              "      <td>1</td>\n",
              "      <td>0</td>\n",
              "      <td>1</td>\n",
              "      <td>112542.58</td>\n",
              "      <td>0</td>\n",
              "    </tr>\n",
              "    <tr>\n",
              "      <th>2</th>\n",
              "      <td>3</td>\n",
              "      <td>15619304</td>\n",
              "      <td>Onio</td>\n",
              "      <td>502</td>\n",
              "      <td>France</td>\n",
              "      <td>Female</td>\n",
              "      <td>42</td>\n",
              "      <td>8</td>\n",
              "      <td>159660.80</td>\n",
              "      <td>3</td>\n",
              "      <td>1</td>\n",
              "      <td>0</td>\n",
              "      <td>113931.57</td>\n",
              "      <td>1</td>\n",
              "    </tr>\n",
              "    <tr>\n",
              "      <th>3</th>\n",
              "      <td>4</td>\n",
              "      <td>15701354</td>\n",
              "      <td>Boni</td>\n",
              "      <td>699</td>\n",
              "      <td>France</td>\n",
              "      <td>Female</td>\n",
              "      <td>39</td>\n",
              "      <td>1</td>\n",
              "      <td>0.00</td>\n",
              "      <td>2</td>\n",
              "      <td>0</td>\n",
              "      <td>0</td>\n",
              "      <td>93826.63</td>\n",
              "      <td>0</td>\n",
              "    </tr>\n",
              "    <tr>\n",
              "      <th>4</th>\n",
              "      <td>5</td>\n",
              "      <td>15737888</td>\n",
              "      <td>Mitchell</td>\n",
              "      <td>850</td>\n",
              "      <td>Spain</td>\n",
              "      <td>Female</td>\n",
              "      <td>43</td>\n",
              "      <td>2</td>\n",
              "      <td>125510.82</td>\n",
              "      <td>1</td>\n",
              "      <td>1</td>\n",
              "      <td>1</td>\n",
              "      <td>79084.10</td>\n",
              "      <td>0</td>\n",
              "    </tr>\n",
              "  </tbody>\n",
              "</table>\n",
              "</div>"
            ],
            "text/plain": [
              "   RowNumber  CustomerId   Surname  ...  IsActiveMember EstimatedSalary Exited\n",
              "0          1    15634602  Hargrave  ...               1       101348.88      1\n",
              "1          2    15647311      Hill  ...               1       112542.58      0\n",
              "2          3    15619304      Onio  ...               0       113931.57      1\n",
              "3          4    15701354      Boni  ...               0        93826.63      0\n",
              "4          5    15737888  Mitchell  ...               1        79084.10      0\n",
              "\n",
              "[5 rows x 14 columns]"
            ]
          },
          "metadata": {
            "tags": []
          },
          "execution_count": 4
        }
      ]
    },
    {
      "cell_type": "code",
      "metadata": {
        "colab": {
          "base_uri": "https://localhost:8080/"
        },
        "id": "om0SivwJJw0i",
        "outputId": "3ad927bb-6ffd-4e2f-892f-e2c419709ace"
      },
      "source": [
        "# detailed information on each column of the dataset\n",
        "\n",
        "data.info()"
      ],
      "execution_count": null,
      "outputs": [
        {
          "output_type": "stream",
          "text": [
            "<class 'pandas.core.frame.DataFrame'>\n",
            "RangeIndex: 10000 entries, 0 to 9999\n",
            "Data columns (total 14 columns):\n",
            " #   Column           Non-Null Count  Dtype  \n",
            "---  ------           --------------  -----  \n",
            " 0   RowNumber        10000 non-null  int64  \n",
            " 1   CustomerId       10000 non-null  int64  \n",
            " 2   Surname          10000 non-null  object \n",
            " 3   CreditScore      10000 non-null  int64  \n",
            " 4   Geography        10000 non-null  object \n",
            " 5   Gender           10000 non-null  object \n",
            " 6   Age              10000 non-null  int64  \n",
            " 7   Tenure           10000 non-null  int64  \n",
            " 8   Balance          10000 non-null  float64\n",
            " 9   NumOfProducts    10000 non-null  int64  \n",
            " 10  HasCrCard        10000 non-null  int64  \n",
            " 11  IsActiveMember   10000 non-null  int64  \n",
            " 12  EstimatedSalary  10000 non-null  float64\n",
            " 13  Exited           10000 non-null  int64  \n",
            "dtypes: float64(2), int64(9), object(3)\n",
            "memory usage: 1.1+ MB\n"
          ],
          "name": "stdout"
        }
      ]
    },
    {
      "cell_type": "code",
      "metadata": {
        "colab": {
          "base_uri": "https://localhost:8080/",
          "height": 284
        },
        "id": "MkT3qhsqKK2E",
        "outputId": "a2740b1e-13be-4a9b-edf3-d57719c9200d"
      },
      "source": [
        "# Statistical description of the dataset\n",
        "\n",
        "data.describe()"
      ],
      "execution_count": null,
      "outputs": [
        {
          "output_type": "execute_result",
          "data": {
            "text/html": [
              "<div>\n",
              "<style scoped>\n",
              "    .dataframe tbody tr th:only-of-type {\n",
              "        vertical-align: middle;\n",
              "    }\n",
              "\n",
              "    .dataframe tbody tr th {\n",
              "        vertical-align: top;\n",
              "    }\n",
              "\n",
              "    .dataframe thead th {\n",
              "        text-align: right;\n",
              "    }\n",
              "</style>\n",
              "<table border=\"1\" class=\"dataframe\">\n",
              "  <thead>\n",
              "    <tr style=\"text-align: right;\">\n",
              "      <th></th>\n",
              "      <th>RowNumber</th>\n",
              "      <th>CustomerId</th>\n",
              "      <th>CreditScore</th>\n",
              "      <th>Age</th>\n",
              "      <th>Tenure</th>\n",
              "      <th>Balance</th>\n",
              "      <th>NumOfProducts</th>\n",
              "      <th>HasCrCard</th>\n",
              "      <th>IsActiveMember</th>\n",
              "      <th>EstimatedSalary</th>\n",
              "      <th>Exited</th>\n",
              "    </tr>\n",
              "  </thead>\n",
              "  <tbody>\n",
              "    <tr>\n",
              "      <th>count</th>\n",
              "      <td>10000.00000</td>\n",
              "      <td>1.000000e+04</td>\n",
              "      <td>10000.000000</td>\n",
              "      <td>10000.000000</td>\n",
              "      <td>10000.000000</td>\n",
              "      <td>10000.000000</td>\n",
              "      <td>10000.000000</td>\n",
              "      <td>10000.00000</td>\n",
              "      <td>10000.000000</td>\n",
              "      <td>10000.000000</td>\n",
              "      <td>10000.000000</td>\n",
              "    </tr>\n",
              "    <tr>\n",
              "      <th>mean</th>\n",
              "      <td>5000.50000</td>\n",
              "      <td>1.569094e+07</td>\n",
              "      <td>650.528800</td>\n",
              "      <td>38.921800</td>\n",
              "      <td>5.012800</td>\n",
              "      <td>76485.889288</td>\n",
              "      <td>1.530200</td>\n",
              "      <td>0.70550</td>\n",
              "      <td>0.515100</td>\n",
              "      <td>100090.239881</td>\n",
              "      <td>0.203700</td>\n",
              "    </tr>\n",
              "    <tr>\n",
              "      <th>std</th>\n",
              "      <td>2886.89568</td>\n",
              "      <td>7.193619e+04</td>\n",
              "      <td>96.653299</td>\n",
              "      <td>10.487806</td>\n",
              "      <td>2.892174</td>\n",
              "      <td>62397.405202</td>\n",
              "      <td>0.581654</td>\n",
              "      <td>0.45584</td>\n",
              "      <td>0.499797</td>\n",
              "      <td>57510.492818</td>\n",
              "      <td>0.402769</td>\n",
              "    </tr>\n",
              "    <tr>\n",
              "      <th>min</th>\n",
              "      <td>1.00000</td>\n",
              "      <td>1.556570e+07</td>\n",
              "      <td>350.000000</td>\n",
              "      <td>18.000000</td>\n",
              "      <td>0.000000</td>\n",
              "      <td>0.000000</td>\n",
              "      <td>1.000000</td>\n",
              "      <td>0.00000</td>\n",
              "      <td>0.000000</td>\n",
              "      <td>11.580000</td>\n",
              "      <td>0.000000</td>\n",
              "    </tr>\n",
              "    <tr>\n",
              "      <th>25%</th>\n",
              "      <td>2500.75000</td>\n",
              "      <td>1.562853e+07</td>\n",
              "      <td>584.000000</td>\n",
              "      <td>32.000000</td>\n",
              "      <td>3.000000</td>\n",
              "      <td>0.000000</td>\n",
              "      <td>1.000000</td>\n",
              "      <td>0.00000</td>\n",
              "      <td>0.000000</td>\n",
              "      <td>51002.110000</td>\n",
              "      <td>0.000000</td>\n",
              "    </tr>\n",
              "    <tr>\n",
              "      <th>50%</th>\n",
              "      <td>5000.50000</td>\n",
              "      <td>1.569074e+07</td>\n",
              "      <td>652.000000</td>\n",
              "      <td>37.000000</td>\n",
              "      <td>5.000000</td>\n",
              "      <td>97198.540000</td>\n",
              "      <td>1.000000</td>\n",
              "      <td>1.00000</td>\n",
              "      <td>1.000000</td>\n",
              "      <td>100193.915000</td>\n",
              "      <td>0.000000</td>\n",
              "    </tr>\n",
              "    <tr>\n",
              "      <th>75%</th>\n",
              "      <td>7500.25000</td>\n",
              "      <td>1.575323e+07</td>\n",
              "      <td>718.000000</td>\n",
              "      <td>44.000000</td>\n",
              "      <td>7.000000</td>\n",
              "      <td>127644.240000</td>\n",
              "      <td>2.000000</td>\n",
              "      <td>1.00000</td>\n",
              "      <td>1.000000</td>\n",
              "      <td>149388.247500</td>\n",
              "      <td>0.000000</td>\n",
              "    </tr>\n",
              "    <tr>\n",
              "      <th>max</th>\n",
              "      <td>10000.00000</td>\n",
              "      <td>1.581569e+07</td>\n",
              "      <td>850.000000</td>\n",
              "      <td>92.000000</td>\n",
              "      <td>10.000000</td>\n",
              "      <td>250898.090000</td>\n",
              "      <td>4.000000</td>\n",
              "      <td>1.00000</td>\n",
              "      <td>1.000000</td>\n",
              "      <td>199992.480000</td>\n",
              "      <td>1.000000</td>\n",
              "    </tr>\n",
              "  </tbody>\n",
              "</table>\n",
              "</div>"
            ],
            "text/plain": [
              "         RowNumber    CustomerId  ...  EstimatedSalary        Exited\n",
              "count  10000.00000  1.000000e+04  ...     10000.000000  10000.000000\n",
              "mean    5000.50000  1.569094e+07  ...    100090.239881      0.203700\n",
              "std     2886.89568  7.193619e+04  ...     57510.492818      0.402769\n",
              "min        1.00000  1.556570e+07  ...        11.580000      0.000000\n",
              "25%     2500.75000  1.562853e+07  ...     51002.110000      0.000000\n",
              "50%     5000.50000  1.569074e+07  ...    100193.915000      0.000000\n",
              "75%     7500.25000  1.575323e+07  ...    149388.247500      0.000000\n",
              "max    10000.00000  1.581569e+07  ...    199992.480000      1.000000\n",
              "\n",
              "[8 rows x 11 columns]"
            ]
          },
          "metadata": {
            "tags": []
          },
          "execution_count": 6
        }
      ]
    },
    {
      "cell_type": "code",
      "metadata": {
        "colab": {
          "base_uri": "https://localhost:8080/"
        },
        "id": "Z8FfbTbWKQLL",
        "outputId": "e208a2cd-d819-4bc9-f5a8-d71d255e123b"
      },
      "source": [
        "# data type of each columns feature variable\n",
        "\n",
        "data.dtypes"
      ],
      "execution_count": null,
      "outputs": [
        {
          "output_type": "execute_result",
          "data": {
            "text/plain": [
              "RowNumber            int64\n",
              "CustomerId           int64\n",
              "Surname             object\n",
              "CreditScore          int64\n",
              "Geography           object\n",
              "Gender              object\n",
              "Age                  int64\n",
              "Tenure               int64\n",
              "Balance            float64\n",
              "NumOfProducts        int64\n",
              "HasCrCard            int64\n",
              "IsActiveMember       int64\n",
              "EstimatedSalary    float64\n",
              "Exited               int64\n",
              "dtype: object"
            ]
          },
          "metadata": {
            "tags": []
          },
          "execution_count": 7
        }
      ]
    },
    {
      "cell_type": "code",
      "metadata": {
        "id": "8gDJMsiA2EBo"
      },
      "source": [
        "# deleting the unnecessary columns (RowNumber, CustomerId, Surname)\n",
        "\n",
        "data.drop(['RowNumber', 'CustomerId', 'Surname'], axis=1, inplace=True)"
      ],
      "execution_count": null,
      "outputs": []
    },
    {
      "cell_type": "code",
      "metadata": {
        "colab": {
          "base_uri": "https://localhost:8080/",
          "height": 195
        },
        "id": "lq-axzrNKcda",
        "outputId": "f350e318-2d3a-4fce-c8a3-7183351250d1"
      },
      "source": [
        "# sample of data after deleting the unnecessary columns\n",
        "\n",
        "data.head()"
      ],
      "execution_count": null,
      "outputs": [
        {
          "output_type": "execute_result",
          "data": {
            "text/html": [
              "<div>\n",
              "<style scoped>\n",
              "    .dataframe tbody tr th:only-of-type {\n",
              "        vertical-align: middle;\n",
              "    }\n",
              "\n",
              "    .dataframe tbody tr th {\n",
              "        vertical-align: top;\n",
              "    }\n",
              "\n",
              "    .dataframe thead th {\n",
              "        text-align: right;\n",
              "    }\n",
              "</style>\n",
              "<table border=\"1\" class=\"dataframe\">\n",
              "  <thead>\n",
              "    <tr style=\"text-align: right;\">\n",
              "      <th></th>\n",
              "      <th>CreditScore</th>\n",
              "      <th>Geography</th>\n",
              "      <th>Gender</th>\n",
              "      <th>Age</th>\n",
              "      <th>Tenure</th>\n",
              "      <th>Balance</th>\n",
              "      <th>NumOfProducts</th>\n",
              "      <th>HasCrCard</th>\n",
              "      <th>IsActiveMember</th>\n",
              "      <th>EstimatedSalary</th>\n",
              "      <th>Exited</th>\n",
              "    </tr>\n",
              "  </thead>\n",
              "  <tbody>\n",
              "    <tr>\n",
              "      <th>0</th>\n",
              "      <td>619</td>\n",
              "      <td>France</td>\n",
              "      <td>Female</td>\n",
              "      <td>42</td>\n",
              "      <td>2</td>\n",
              "      <td>0.00</td>\n",
              "      <td>1</td>\n",
              "      <td>1</td>\n",
              "      <td>1</td>\n",
              "      <td>101348.88</td>\n",
              "      <td>1</td>\n",
              "    </tr>\n",
              "    <tr>\n",
              "      <th>1</th>\n",
              "      <td>608</td>\n",
              "      <td>Spain</td>\n",
              "      <td>Female</td>\n",
              "      <td>41</td>\n",
              "      <td>1</td>\n",
              "      <td>83807.86</td>\n",
              "      <td>1</td>\n",
              "      <td>0</td>\n",
              "      <td>1</td>\n",
              "      <td>112542.58</td>\n",
              "      <td>0</td>\n",
              "    </tr>\n",
              "    <tr>\n",
              "      <th>2</th>\n",
              "      <td>502</td>\n",
              "      <td>France</td>\n",
              "      <td>Female</td>\n",
              "      <td>42</td>\n",
              "      <td>8</td>\n",
              "      <td>159660.80</td>\n",
              "      <td>3</td>\n",
              "      <td>1</td>\n",
              "      <td>0</td>\n",
              "      <td>113931.57</td>\n",
              "      <td>1</td>\n",
              "    </tr>\n",
              "    <tr>\n",
              "      <th>3</th>\n",
              "      <td>699</td>\n",
              "      <td>France</td>\n",
              "      <td>Female</td>\n",
              "      <td>39</td>\n",
              "      <td>1</td>\n",
              "      <td>0.00</td>\n",
              "      <td>2</td>\n",
              "      <td>0</td>\n",
              "      <td>0</td>\n",
              "      <td>93826.63</td>\n",
              "      <td>0</td>\n",
              "    </tr>\n",
              "    <tr>\n",
              "      <th>4</th>\n",
              "      <td>850</td>\n",
              "      <td>Spain</td>\n",
              "      <td>Female</td>\n",
              "      <td>43</td>\n",
              "      <td>2</td>\n",
              "      <td>125510.82</td>\n",
              "      <td>1</td>\n",
              "      <td>1</td>\n",
              "      <td>1</td>\n",
              "      <td>79084.10</td>\n",
              "      <td>0</td>\n",
              "    </tr>\n",
              "  </tbody>\n",
              "</table>\n",
              "</div>"
            ],
            "text/plain": [
              "   CreditScore Geography  Gender  ...  IsActiveMember  EstimatedSalary  Exited\n",
              "0          619    France  Female  ...               1        101348.88       1\n",
              "1          608     Spain  Female  ...               1        112542.58       0\n",
              "2          502    France  Female  ...               0        113931.57       1\n",
              "3          699    France  Female  ...               0         93826.63       0\n",
              "4          850     Spain  Female  ...               1         79084.10       0\n",
              "\n",
              "[5 rows x 11 columns]"
            ]
          },
          "metadata": {
            "tags": []
          },
          "execution_count": 9
        }
      ]
    },
    {
      "cell_type": "code",
      "metadata": {
        "colab": {
          "base_uri": "https://localhost:8080/"
        },
        "id": "z2VLa4aQKgdA",
        "outputId": "b701f81c-7c90-48b6-e54c-3648b55778eb"
      },
      "source": [
        "# We can check if the pandas dataframe 'data' has any null values in each of its column using the isnull() function.\n",
        "# Furthermore, the sum() function tells us the total null values in each column.\n",
        "\n",
        "data.isnull().sum()"
      ],
      "execution_count": null,
      "outputs": [
        {
          "output_type": "execute_result",
          "data": {
            "text/plain": [
              "CreditScore        0\n",
              "Geography          0\n",
              "Gender             0\n",
              "Age                0\n",
              "Tenure             0\n",
              "Balance            0\n",
              "NumOfProducts      0\n",
              "HasCrCard          0\n",
              "IsActiveMember     0\n",
              "EstimatedSalary    0\n",
              "Exited             0\n",
              "dtype: int64"
            ]
          },
          "metadata": {
            "tags": []
          },
          "execution_count": 10
        }
      ]
    },
    {
      "cell_type": "code",
      "metadata": {
        "colab": {
          "base_uri": "https://localhost:8080/",
          "height": 269
        },
        "id": "XcWQls1C2MNT",
        "outputId": "fec27572-8b63-432b-b119-7efc9b175008"
      },
      "source": [
        "# Pie chart to display the amount (percentage) of customers churned and the ones retained\n",
        "\n",
        "labels = ['Exited', 'Retained']\n",
        "sizes = [data.Exited[data['Exited'] == 1].count(), data.Exited[data['Exited'] == 0].count()]\n",
        "explode = [0.1, 0]\n",
        "\n",
        "# create and plot the pie chart\n",
        "\n",
        "plt.pie(sizes, explode=explode, labels=labels, autopct='%1.1f%%', shadow=True, startangle=90, radius=0.5, colors=['r', 'g'], )\n",
        "plt.title(\"Percentage of customers exited and retained\", size = 20)\n",
        "plt.axis('equal')\n",
        "plt.show()"
      ],
      "execution_count": null,
      "outputs": [
        {
          "output_type": "display_data",
          "data": {
            "image/png": "[encoded data removed]",
            "text/plain": [
              "<Figure size 432x288 with 1 Axes>"
            ]
          },
          "metadata": {
            "tags": []
          }
        }
      ]
    },
    {
      "cell_type": "code",
      "metadata": {
        "colab": {
          "base_uri": "https://localhost:8080/",
          "height": 718
        },
        "id": "TrRDwKG0K6Kg",
        "outputId": "5d68992a-0013-4461-e644-548ce50771ed"
      },
      "source": [
        "# Count column plots to map the dependence of 'Exited' column on categorical features\n",
        "\n",
        "fig, ax = plt.subplots(2, 3, figsize=(30, 15))\n",
        "\n",
        "sns.countplot(x='Geography', hue='Exited', data=data, palette='Set2', ax=ax[0][0])\n",
        "sns.countplot(x='Gender', hue='Exited', data=data, palette='Set2', ax=ax[0][1])\n",
        "sns.countplot(x='HasCrCard', hue='Exited', data=data, palette='Set2', ax=ax[0][2])\n",
        "sns.countplot(x='IsActiveMember', hue='Exited', data=data, palette='Set2', ax=ax[1][0])\n",
        "sns.countplot(x='NumOfProducts', hue='Exited', data=data, palette='Set2', ax=ax[1][1])\n",
        "sns.countplot(x='Tenure', hue='Exited', data=data, palette='Set2', ax=ax[1][2])\n",
        "\n",
        "plt.show()"
      ],
      "execution_count": null,
      "outputs": [
        {
          "output_type": "display_data",
          "data": {
            "image/png": "[encoded data removed]",
            "text/plain": [
              "<Figure size 2160x1080 with 6 Axes>"
            ]
          },
          "metadata": {
            "tags": [],
            "needs_background": "light"
          }
        }
      ]
    },
    {
      "cell_type": "code",
      "metadata": {
        "colab": {
          "base_uri": "https://localhost:8080/",
          "height": 713
        },
        "id": "Dvvu0Nj4LB14",
        "outputId": "3ad42c91-e1c0-478a-a335-8f364dce3c14"
      },
      "source": [
        "# Count column plots to map the dependence of 'Exited' column on continuous and numerical features\n",
        "\n",
        "fig, ax = plt.subplots(2, 3, figsize=(30, 15))\n",
        "\n",
        "sns.boxplot(data=data, x='Exited', y='CreditScore', hue='Exited', ax=ax[0][0])\n",
        "sns.boxplot(data=data, x='Exited', y='Age', hue='Exited', ax=ax[0][1])\n",
        "sns.boxplot(data=data, x='Exited', y='Balance', hue='Exited', ax=ax[0][2])\n",
        "sns.boxplot(data=data, x='Exited', y='EstimatedSalary', hue='Exited', ax=ax[1][0])\n",
        "sns.boxplot(data=data, x='Exited', y='NumOfProducts', hue='Exited', ax=ax[1][1])\n",
        "sns.boxplot(data=data, x='Exited', y='Tenure', hue='Exited', ax=ax[1][2])\n",
        "\n",
        "plt.show()"
      ],
      "execution_count": null,
      "outputs": [
        {
          "output_type": "display_data",
          "data": {
            "image/png": "[encoded data removed]",
            "text/plain": [
              "<Figure size 2160x1080 with 6 Axes>"
            ]
          },
          "metadata": {
            "tags": [],
            "needs_background": "light"
          }
        }
      ]
    },
    {
      "cell_type": "markdown",
      "metadata": {
        "id": "zLkNbbd6LQyX"
      },
      "source": [
        "# __<font color='green'>Observations</font>__\n",
        "\n",
        "* __Credit Score:__ We can see that Credit Score does not have much effect on the customer churn.\n",
        "* __Age:__ Here we can see that the older customers are more likely to be churned from the bank. This is most probably to keep a younger manpower in the organization.\n",
        "* __Balance:__ When it comes to Balance, we see that the bank is losing a significant number of customers with high balance in their accounts. This is likely to affect the bank's capital as well.\n",
        "* __Estimated Salary:__ Estimated Salary does not seem to affect the customer churn much.\n",
        "* __Number of Products:__ We see that the number of products also does not seem to affect the customer churn.\n",
        "* __Tenure:__ For tenure, as we can see here too, customer belonging more to the two extreme tenure groups (new joinees and older ones) are more likely to be churned."
      ]
    },
    {
      "cell_type": "code",
      "metadata": {
        "colab": {
          "base_uri": "https://localhost:8080/",
          "height": 246
        },
        "id": "XrRHh5X02SZd",
        "outputId": "94d5b0d5-6e90-4d80-8dd9-3e86c66e4d40"
      },
      "source": [
        "# list of continuous and categorical variables/features\n",
        "\n",
        "continuous_vars = ['CreditScore',  'Age', 'Tenure', 'Balance','NumOfProducts', 'EstimatedSalary']\n",
        "categorical_vars = ['HasCrCard', 'IsActiveMember','Geography', 'Gender']\n",
        "\n",
        "# separating the train and test data using a 80%-20% split\n",
        "\n",
        "data_train = data.sample(frac=0.8, random_state=100)\n",
        "data_test = data.drop(data_train.index)\n",
        "\n",
        "# check the number of rows in each data set for verification\n",
        "\n",
        "print('Number of rows in train data: ', len(data_train))\n",
        "print('Number of rows in test data: ', len(data_test))\n",
        "\n",
        "print()\n",
        "\n",
        "data_train = data_train[['Exited'] + continuous_vars + categorical_vars]\n",
        "data_train.head()"
      ],
      "execution_count": null,
      "outputs": [
        {
          "output_type": "stream",
          "text": [
            "Number of rows in train data:  8000\n",
            "Number of rows in test data:  2000\n",
            "\n"
          ],
          "name": "stdout"
        },
        {
          "output_type": "execute_result",
          "data": {
            "text/html": [
              "<div>\n",
              "<style scoped>\n",
              "    .dataframe tbody tr th:only-of-type {\n",
              "        vertical-align: middle;\n",
              "    }\n",
              "\n",
              "    .dataframe tbody tr th {\n",
              "        vertical-align: top;\n",
              "    }\n",
              "\n",
              "    .dataframe thead th {\n",
              "        text-align: right;\n",
              "    }\n",
              "</style>\n",
              "<table border=\"1\" class=\"dataframe\">\n",
              "  <thead>\n",
              "    <tr style=\"text-align: right;\">\n",
              "      <th></th>\n",
              "      <th>Exited</th>\n",
              "      <th>CreditScore</th>\n",
              "      <th>Age</th>\n",
              "      <th>Tenure</th>\n",
              "      <th>Balance</th>\n",
              "      <th>NumOfProducts</th>\n",
              "      <th>EstimatedSalary</th>\n",
              "      <th>HasCrCard</th>\n",
              "      <th>IsActiveMember</th>\n",
              "      <th>Geography</th>\n",
              "      <th>Gender</th>\n",
              "    </tr>\n",
              "  </thead>\n",
              "  <tbody>\n",
              "    <tr>\n",
              "      <th>8018</th>\n",
              "      <td>1</td>\n",
              "      <td>632</td>\n",
              "      <td>23</td>\n",
              "      <td>3</td>\n",
              "      <td>122478.51</td>\n",
              "      <td>1</td>\n",
              "      <td>147230.77</td>\n",
              "      <td>1</td>\n",
              "      <td>0</td>\n",
              "      <td>Germany</td>\n",
              "      <td>Male</td>\n",
              "    </tr>\n",
              "    <tr>\n",
              "      <th>9225</th>\n",
              "      <td>0</td>\n",
              "      <td>594</td>\n",
              "      <td>32</td>\n",
              "      <td>4</td>\n",
              "      <td>120074.97</td>\n",
              "      <td>2</td>\n",
              "      <td>162961.79</td>\n",
              "      <td>1</td>\n",
              "      <td>1</td>\n",
              "      <td>Germany</td>\n",
              "      <td>Female</td>\n",
              "    </tr>\n",
              "    <tr>\n",
              "      <th>3854</th>\n",
              "      <td>0</td>\n",
              "      <td>687</td>\n",
              "      <td>33</td>\n",
              "      <td>9</td>\n",
              "      <td>135962.40</td>\n",
              "      <td>2</td>\n",
              "      <td>121747.96</td>\n",
              "      <td>1</td>\n",
              "      <td>0</td>\n",
              "      <td>Germany</td>\n",
              "      <td>Male</td>\n",
              "    </tr>\n",
              "    <tr>\n",
              "      <th>2029</th>\n",
              "      <td>0</td>\n",
              "      <td>520</td>\n",
              "      <td>33</td>\n",
              "      <td>4</td>\n",
              "      <td>156297.58</td>\n",
              "      <td>2</td>\n",
              "      <td>166102.61</td>\n",
              "      <td>1</td>\n",
              "      <td>1</td>\n",
              "      <td>France</td>\n",
              "      <td>Male</td>\n",
              "    </tr>\n",
              "    <tr>\n",
              "      <th>3539</th>\n",
              "      <td>0</td>\n",
              "      <td>667</td>\n",
              "      <td>42</td>\n",
              "      <td>6</td>\n",
              "      <td>0.00</td>\n",
              "      <td>1</td>\n",
              "      <td>88890.05</td>\n",
              "      <td>1</td>\n",
              "      <td>0</td>\n",
              "      <td>France</td>\n",
              "      <td>Male</td>\n",
              "    </tr>\n",
              "  </tbody>\n",
              "</table>\n",
              "</div>"
            ],
            "text/plain": [
              "      Exited  CreditScore  Age  ...  IsActiveMember  Geography  Gender\n",
              "8018       1          632   23  ...               0    Germany    Male\n",
              "9225       0          594   32  ...               1    Germany  Female\n",
              "3854       0          687   33  ...               0    Germany    Male\n",
              "2029       0          520   33  ...               1     France    Male\n",
              "3539       0          667   42  ...               0     France    Male\n",
              "\n",
              "[5 rows x 11 columns]"
            ]
          },
          "metadata": {
            "tags": []
          },
          "execution_count": 14
        }
      ]
    },
    {
      "cell_type": "code",
      "metadata": {
        "colab": {
          "base_uri": "https://localhost:8080/",
          "height": 195
        },
        "id": "ebT--PKi2YTo",
        "outputId": "1b282bce-e6ed-47d4-fb88-ddf155f5809c"
      },
      "source": [
        "# turning 0 values of numerical categorical features into -1\n",
        "# to introduce negative relation in the calculations\n",
        "\n",
        "data_train.loc[data_train.HasCrCard == 0, 'HasCrCard'] = -1\n",
        "data_train.loc[data_train.IsActiveMember == 0, 'IsActiveMember'] = -1\n",
        "\n",
        "data_train.head()"
      ],
      "execution_count": null,
      "outputs": [
        {
          "output_type": "execute_result",
          "data": {
            "text/html": [
              "<div>\n",
              "<style scoped>\n",
              "    .dataframe tbody tr th:only-of-type {\n",
              "        vertical-align: middle;\n",
              "    }\n",
              "\n",
              "    .dataframe tbody tr th {\n",
              "        vertical-align: top;\n",
              "    }\n",
              "\n",
              "    .dataframe thead th {\n",
              "        text-align: right;\n",
              "    }\n",
              "</style>\n",
              "<table border=\"1\" class=\"dataframe\">\n",
              "  <thead>\n",
              "    <tr style=\"text-align: right;\">\n",
              "      <th></th>\n",
              "      <th>Exited</th>\n",
              "      <th>CreditScore</th>\n",
              "      <th>Age</th>\n",
              "      <th>Tenure</th>\n",
              "      <th>Balance</th>\n",
              "      <th>NumOfProducts</th>\n",
              "      <th>EstimatedSalary</th>\n",
              "      <th>HasCrCard</th>\n",
              "      <th>IsActiveMember</th>\n",
              "      <th>Geography</th>\n",
              "      <th>Gender</th>\n",
              "    </tr>\n",
              "  </thead>\n",
              "  <tbody>\n",
              "    <tr>\n",
              "      <th>8018</th>\n",
              "      <td>1</td>\n",
              "      <td>632</td>\n",
              "      <td>23</td>\n",
              "      <td>3</td>\n",
              "      <td>122478.51</td>\n",
              "      <td>1</td>\n",
              "      <td>147230.77</td>\n",
              "      <td>1</td>\n",
              "      <td>-1</td>\n",
              "      <td>Germany</td>\n",
              "      <td>Male</td>\n",
              "    </tr>\n",
              "    <tr>\n",
              "      <th>9225</th>\n",
              "      <td>0</td>\n",
              "      <td>594</td>\n",
              "      <td>32</td>\n",
              "      <td>4</td>\n",
              "      <td>120074.97</td>\n",
              "      <td>2</td>\n",
              "      <td>162961.79</td>\n",
              "      <td>1</td>\n",
              "      <td>1</td>\n",
              "      <td>Germany</td>\n",
              "      <td>Female</td>\n",
              "    </tr>\n",
              "    <tr>\n",
              "      <th>3854</th>\n",
              "      <td>0</td>\n",
              "      <td>687</td>\n",
              "      <td>33</td>\n",
              "      <td>9</td>\n",
              "      <td>135962.40</td>\n",
              "      <td>2</td>\n",
              "      <td>121747.96</td>\n",
              "      <td>1</td>\n",
              "      <td>-1</td>\n",
              "      <td>Germany</td>\n",
              "      <td>Male</td>\n",
              "    </tr>\n",
              "    <tr>\n",
              "      <th>2029</th>\n",
              "      <td>0</td>\n",
              "      <td>520</td>\n",
              "      <td>33</td>\n",
              "      <td>4</td>\n",
              "      <td>156297.58</td>\n",
              "      <td>2</td>\n",
              "      <td>166102.61</td>\n",
              "      <td>1</td>\n",
              "      <td>1</td>\n",
              "      <td>France</td>\n",
              "      <td>Male</td>\n",
              "    </tr>\n",
              "    <tr>\n",
              "      <th>3539</th>\n",
              "      <td>0</td>\n",
              "      <td>667</td>\n",
              "      <td>42</td>\n",
              "      <td>6</td>\n",
              "      <td>0.00</td>\n",
              "      <td>1</td>\n",
              "      <td>88890.05</td>\n",
              "      <td>1</td>\n",
              "      <td>-1</td>\n",
              "      <td>France</td>\n",
              "      <td>Male</td>\n",
              "    </tr>\n",
              "  </tbody>\n",
              "</table>\n",
              "</div>"
            ],
            "text/plain": [
              "      Exited  CreditScore  Age  ...  IsActiveMember  Geography  Gender\n",
              "8018       1          632   23  ...              -1    Germany    Male\n",
              "9225       0          594   32  ...               1    Germany  Female\n",
              "3854       0          687   33  ...              -1    Germany    Male\n",
              "2029       0          520   33  ...               1     France    Male\n",
              "3539       0          667   42  ...              -1     France    Male\n",
              "\n",
              "[5 rows x 11 columns]"
            ]
          },
          "metadata": {
            "tags": []
          },
          "execution_count": 15
        }
      ]
    },
    {
      "cell_type": "code",
      "metadata": {
        "colab": {
          "base_uri": "https://localhost:8080/",
          "height": 195
        },
        "id": "UUF8sufgLkM1",
        "outputId": "dd73a5b1-b752-4e63-ed17-e0e7e99a684c"
      },
      "source": [
        "# turning 0 values of numerical categorical features into -1\n",
        "# to introduce negative relation in the calculations\n",
        "\n",
        "data_train.loc[data_train.HasCrCard == 0, 'HasCrCard'] = -1\n",
        "data_train.loc[data_train.IsActiveMember == 0, 'IsActiveMember'] = -1\n",
        "\n",
        "data_train.head()"
      ],
      "execution_count": null,
      "outputs": [
        {
          "output_type": "execute_result",
          "data": {
            "text/html": [
              "<div>\n",
              "<style scoped>\n",
              "    .dataframe tbody tr th:only-of-type {\n",
              "        vertical-align: middle;\n",
              "    }\n",
              "\n",
              "    .dataframe tbody tr th {\n",
              "        vertical-align: top;\n",
              "    }\n",
              "\n",
              "    .dataframe thead th {\n",
              "        text-align: right;\n",
              "    }\n",
              "</style>\n",
              "<table border=\"1\" class=\"dataframe\">\n",
              "  <thead>\n",
              "    <tr style=\"text-align: right;\">\n",
              "      <th></th>\n",
              "      <th>Exited</th>\n",
              "      <th>CreditScore</th>\n",
              "      <th>Age</th>\n",
              "      <th>Tenure</th>\n",
              "      <th>Balance</th>\n",
              "      <th>NumOfProducts</th>\n",
              "      <th>EstimatedSalary</th>\n",
              "      <th>HasCrCard</th>\n",
              "      <th>IsActiveMember</th>\n",
              "      <th>Geography</th>\n",
              "      <th>Gender</th>\n",
              "    </tr>\n",
              "  </thead>\n",
              "  <tbody>\n",
              "    <tr>\n",
              "      <th>8018</th>\n",
              "      <td>1</td>\n",
              "      <td>632</td>\n",
              "      <td>23</td>\n",
              "      <td>3</td>\n",
              "      <td>122478.51</td>\n",
              "      <td>1</td>\n",
              "      <td>147230.77</td>\n",
              "      <td>1</td>\n",
              "      <td>-1</td>\n",
              "      <td>Germany</td>\n",
              "      <td>Male</td>\n",
              "    </tr>\n",
              "    <tr>\n",
              "      <th>9225</th>\n",
              "      <td>0</td>\n",
              "      <td>594</td>\n",
              "      <td>32</td>\n",
              "      <td>4</td>\n",
              "      <td>120074.97</td>\n",
              "      <td>2</td>\n",
              "      <td>162961.79</td>\n",
              "      <td>1</td>\n",
              "      <td>1</td>\n",
              "      <td>Germany</td>\n",
              "      <td>Female</td>\n",
              "    </tr>\n",
              "    <tr>\n",
              "      <th>3854</th>\n",
              "      <td>0</td>\n",
              "      <td>687</td>\n",
              "      <td>33</td>\n",
              "      <td>9</td>\n",
              "      <td>135962.40</td>\n",
              "      <td>2</td>\n",
              "      <td>121747.96</td>\n",
              "      <td>1</td>\n",
              "      <td>-1</td>\n",
              "      <td>Germany</td>\n",
              "      <td>Male</td>\n",
              "    </tr>\n",
              "    <tr>\n",
              "      <th>2029</th>\n",
              "      <td>0</td>\n",
              "      <td>520</td>\n",
              "      <td>33</td>\n",
              "      <td>4</td>\n",
              "      <td>156297.58</td>\n",
              "      <td>2</td>\n",
              "      <td>166102.61</td>\n",
              "      <td>1</td>\n",
              "      <td>1</td>\n",
              "      <td>France</td>\n",
              "      <td>Male</td>\n",
              "    </tr>\n",
              "    <tr>\n",
              "      <th>3539</th>\n",
              "      <td>0</td>\n",
              "      <td>667</td>\n",
              "      <td>42</td>\n",
              "      <td>6</td>\n",
              "      <td>0.00</td>\n",
              "      <td>1</td>\n",
              "      <td>88890.05</td>\n",
              "      <td>1</td>\n",
              "      <td>-1</td>\n",
              "      <td>France</td>\n",
              "      <td>Male</td>\n",
              "    </tr>\n",
              "  </tbody>\n",
              "</table>\n",
              "</div>"
            ],
            "text/plain": [
              "      Exited  CreditScore  Age  ...  IsActiveMember  Geography  Gender\n",
              "8018       1          632   23  ...              -1    Germany    Male\n",
              "9225       0          594   32  ...               1    Germany  Female\n",
              "3854       0          687   33  ...              -1    Germany    Male\n",
              "2029       0          520   33  ...               1     France    Male\n",
              "3539       0          667   42  ...              -1     France    Male\n",
              "\n",
              "[5 rows x 11 columns]"
            ]
          },
          "metadata": {
            "tags": []
          },
          "execution_count": 16
        }
      ]
    },
    {
      "cell_type": "code",
      "metadata": {
        "colab": {
          "base_uri": "https://localhost:8080/",
          "height": 215
        },
        "id": "-AZBTUK_2diw",
        "outputId": "d3acfceb-b120-48e6-8471-865096fed447"
      },
      "source": [
        "# list of categorical variables\n",
        "\n",
        "var_list = ['Geography', 'Gender']\n",
        "\n",
        "# turning the categorical variables into one-hot vectors\n",
        "\n",
        "for var in var_list:\n",
        "  for val in data_train[var].unique():\n",
        "    data_train[var + '_' + val] = np.where(data_train[var] == val, 1, -1)\n",
        "\n",
        "data_train = data_train.drop(var_list, axis=1)\n",
        "\n",
        "data_train.head()"
      ],
      "execution_count": null,
      "outputs": [
        {
          "output_type": "execute_result",
          "data": {
            "text/html": [
              "<div>\n",
              "<style scoped>\n",
              "    .dataframe tbody tr th:only-of-type {\n",
              "        vertical-align: middle;\n",
              "    }\n",
              "\n",
              "    .dataframe tbody tr th {\n",
              "        vertical-align: top;\n",
              "    }\n",
              "\n",
              "    .dataframe thead th {\n",
              "        text-align: right;\n",
              "    }\n",
              "</style>\n",
              "<table border=\"1\" class=\"dataframe\">\n",
              "  <thead>\n",
              "    <tr style=\"text-align: right;\">\n",
              "      <th></th>\n",
              "      <th>Exited</th>\n",
              "      <th>CreditScore</th>\n",
              "      <th>Age</th>\n",
              "      <th>Tenure</th>\n",
              "      <th>Balance</th>\n",
              "      <th>NumOfProducts</th>\n",
              "      <th>EstimatedSalary</th>\n",
              "      <th>HasCrCard</th>\n",
              "      <th>IsActiveMember</th>\n",
              "      <th>Geography_Germany</th>\n",
              "      <th>Geography_France</th>\n",
              "      <th>Geography_Spain</th>\n",
              "      <th>Gender_Male</th>\n",
              "      <th>Gender_Female</th>\n",
              "    </tr>\n",
              "  </thead>\n",
              "  <tbody>\n",
              "    <tr>\n",
              "      <th>8018</th>\n",
              "      <td>1</td>\n",
              "      <td>632</td>\n",
              "      <td>23</td>\n",
              "      <td>3</td>\n",
              "      <td>122478.51</td>\n",
              "      <td>1</td>\n",
              "      <td>147230.77</td>\n",
              "      <td>1</td>\n",
              "      <td>-1</td>\n",
              "      <td>1</td>\n",
              "      <td>-1</td>\n",
              "      <td>-1</td>\n",
              "      <td>1</td>\n",
              "      <td>-1</td>\n",
              "    </tr>\n",
              "    <tr>\n",
              "      <th>9225</th>\n",
              "      <td>0</td>\n",
              "      <td>594</td>\n",
              "      <td>32</td>\n",
              "      <td>4</td>\n",
              "      <td>120074.97</td>\n",
              "      <td>2</td>\n",
              "      <td>162961.79</td>\n",
              "      <td>1</td>\n",
              "      <td>1</td>\n",
              "      <td>1</td>\n",
              "      <td>-1</td>\n",
              "      <td>-1</td>\n",
              "      <td>-1</td>\n",
              "      <td>1</td>\n",
              "    </tr>\n",
              "    <tr>\n",
              "      <th>3854</th>\n",
              "      <td>0</td>\n",
              "      <td>687</td>\n",
              "      <td>33</td>\n",
              "      <td>9</td>\n",
              "      <td>135962.40</td>\n",
              "      <td>2</td>\n",
              "      <td>121747.96</td>\n",
              "      <td>1</td>\n",
              "      <td>-1</td>\n",
              "      <td>1</td>\n",
              "      <td>-1</td>\n",
              "      <td>-1</td>\n",
              "      <td>1</td>\n",
              "      <td>-1</td>\n",
              "    </tr>\n",
              "    <tr>\n",
              "      <th>2029</th>\n",
              "      <td>0</td>\n",
              "      <td>520</td>\n",
              "      <td>33</td>\n",
              "      <td>4</td>\n",
              "      <td>156297.58</td>\n",
              "      <td>2</td>\n",
              "      <td>166102.61</td>\n",
              "      <td>1</td>\n",
              "      <td>1</td>\n",
              "      <td>-1</td>\n",
              "      <td>1</td>\n",
              "      <td>-1</td>\n",
              "      <td>1</td>\n",
              "      <td>-1</td>\n",
              "    </tr>\n",
              "    <tr>\n",
              "      <th>3539</th>\n",
              "      <td>0</td>\n",
              "      <td>667</td>\n",
              "      <td>42</td>\n",
              "      <td>6</td>\n",
              "      <td>0.00</td>\n",
              "      <td>1</td>\n",
              "      <td>88890.05</td>\n",
              "      <td>1</td>\n",
              "      <td>-1</td>\n",
              "      <td>-1</td>\n",
              "      <td>1</td>\n",
              "      <td>-1</td>\n",
              "      <td>1</td>\n",
              "      <td>-1</td>\n",
              "    </tr>\n",
              "  </tbody>\n",
              "</table>\n",
              "</div>"
            ],
            "text/plain": [
              "      Exited  CreditScore  Age  ...  Geography_Spain  Gender_Male  Gender_Female\n",
              "8018       1          632   23  ...               -1            1             -1\n",
              "9225       0          594   32  ...               -1           -1              1\n",
              "3854       0          687   33  ...               -1            1             -1\n",
              "2029       0          520   33  ...               -1            1             -1\n",
              "3539       0          667   42  ...               -1            1             -1\n",
              "\n",
              "[5 rows x 14 columns]"
            ]
          },
          "metadata": {
            "tags": []
          },
          "execution_count": 17
        }
      ]
    },
    {
      "cell_type": "code",
      "metadata": {
        "colab": {
          "base_uri": "https://localhost:8080/",
          "height": 215
        },
        "id": "OeAFQ4xc2iVx",
        "outputId": "8de3706f-e45d-4072-bc96-5728add7c0f7"
      },
      "source": [
        "#Normalizing the values between 0 and 1 using min-max scaling\n",
        "\n",
        "min_values = data_train[continuous_vars].min()\n",
        "max_values = data_train[continuous_vars].max()\n",
        "\n",
        "data_train[continuous_vars] = (data_train[continuous_vars] - min_values) / (max_values - min_values)\n",
        "data_train.head()"
      ],
      "execution_count": null,
      "outputs": [
        {
          "output_type": "execute_result",
          "data": {
            "text/html": [
              "<div>\n",
              "<style scoped>\n",
              "    .dataframe tbody tr th:only-of-type {\n",
              "        vertical-align: middle;\n",
              "    }\n",
              "\n",
              "    .dataframe tbody tr th {\n",
              "        vertical-align: top;\n",
              "    }\n",
              "\n",
              "    .dataframe thead th {\n",
              "        text-align: right;\n",
              "    }\n",
              "</style>\n",
              "<table border=\"1\" class=\"dataframe\">\n",
              "  <thead>\n",
              "    <tr style=\"text-align: right;\">\n",
              "      <th></th>\n",
              "      <th>Exited</th>\n",
              "      <th>CreditScore</th>\n",
              "      <th>Age</th>\n",
              "      <th>Tenure</th>\n",
              "      <th>Balance</th>\n",
              "      <th>NumOfProducts</th>\n",
              "      <th>EstimatedSalary</th>\n",
              "      <th>HasCrCard</th>\n",
              "      <th>IsActiveMember</th>\n",
              "      <th>Geography_Germany</th>\n",
              "      <th>Geography_France</th>\n",
              "      <th>Geography_Spain</th>\n",
              "      <th>Gender_Male</th>\n",
              "      <th>Gender_Female</th>\n",
              "    </tr>\n",
              "  </thead>\n",
              "  <tbody>\n",
              "    <tr>\n",
              "      <th>8018</th>\n",
              "      <td>1</td>\n",
              "      <td>0.564</td>\n",
              "      <td>0.067568</td>\n",
              "      <td>0.3</td>\n",
              "      <td>0.488160</td>\n",
              "      <td>0.000000</td>\n",
              "      <td>0.736166</td>\n",
              "      <td>1</td>\n",
              "      <td>-1</td>\n",
              "      <td>1</td>\n",
              "      <td>-1</td>\n",
              "      <td>-1</td>\n",
              "      <td>1</td>\n",
              "      <td>-1</td>\n",
              "    </tr>\n",
              "    <tr>\n",
              "      <th>9225</th>\n",
              "      <td>0</td>\n",
              "      <td>0.488</td>\n",
              "      <td>0.189189</td>\n",
              "      <td>0.4</td>\n",
              "      <td>0.478581</td>\n",
              "      <td>0.333333</td>\n",
              "      <td>0.814829</td>\n",
              "      <td>1</td>\n",
              "      <td>1</td>\n",
              "      <td>1</td>\n",
              "      <td>-1</td>\n",
              "      <td>-1</td>\n",
              "      <td>-1</td>\n",
              "      <td>1</td>\n",
              "    </tr>\n",
              "    <tr>\n",
              "      <th>3854</th>\n",
              "      <td>0</td>\n",
              "      <td>0.674</td>\n",
              "      <td>0.202703</td>\n",
              "      <td>0.9</td>\n",
              "      <td>0.541903</td>\n",
              "      <td>0.333333</td>\n",
              "      <td>0.608740</td>\n",
              "      <td>1</td>\n",
              "      <td>-1</td>\n",
              "      <td>1</td>\n",
              "      <td>-1</td>\n",
              "      <td>-1</td>\n",
              "      <td>1</td>\n",
              "      <td>-1</td>\n",
              "    </tr>\n",
              "    <tr>\n",
              "      <th>2029</th>\n",
              "      <td>0</td>\n",
              "      <td>0.340</td>\n",
              "      <td>0.202703</td>\n",
              "      <td>0.4</td>\n",
              "      <td>0.622952</td>\n",
              "      <td>0.333333</td>\n",
              "      <td>0.830534</td>\n",
              "      <td>1</td>\n",
              "      <td>1</td>\n",
              "      <td>-1</td>\n",
              "      <td>1</td>\n",
              "      <td>-1</td>\n",
              "      <td>1</td>\n",
              "      <td>-1</td>\n",
              "    </tr>\n",
              "    <tr>\n",
              "      <th>3539</th>\n",
              "      <td>0</td>\n",
              "      <td>0.634</td>\n",
              "      <td>0.324324</td>\n",
              "      <td>0.6</td>\n",
              "      <td>0.000000</td>\n",
              "      <td>0.000000</td>\n",
              "      <td>0.444435</td>\n",
              "      <td>1</td>\n",
              "      <td>-1</td>\n",
              "      <td>-1</td>\n",
              "      <td>1</td>\n",
              "      <td>-1</td>\n",
              "      <td>1</td>\n",
              "      <td>-1</td>\n",
              "    </tr>\n",
              "  </tbody>\n",
              "</table>\n",
              "</div>"
            ],
            "text/plain": [
              "      Exited  CreditScore  ...  Gender_Male  Gender_Female\n",
              "8018       1        0.564  ...            1             -1\n",
              "9225       0        0.488  ...           -1              1\n",
              "3854       0        0.674  ...            1             -1\n",
              "2029       0        0.340  ...            1             -1\n",
              "3539       0        0.634  ...            1             -1\n",
              "\n",
              "[5 rows x 14 columns]"
            ]
          },
          "metadata": {
            "tags": []
          },
          "execution_count": 18
        }
      ]
    },
    {
      "cell_type": "code",
      "metadata": {
        "id": "cyG3bKhQyAL3"
      },
      "source": [],
      "execution_count": null,
      "outputs": []
    },
    {
      "cell_type": "code",
      "metadata": {
        "id": "lbEMHW5k2mxP"
      },
      "source": [
        "# important libraries\n",
        "\n",
        "from sklearn.model_selection import GridSearchCV\n",
        "\n",
        "# models\n",
        "\n",
        "from sklearn.ensemble import RandomForestClassifier\n",
        "\n",
        "# metrics\n",
        "\n",
        "from sklearn.metrics import accuracy_score\n",
        "from sklearn.metrics import confusion_matrix\n",
        "from sklearn.metrics import classification_report\n",
        "from sklearn.metrics import roc_auc_score\n",
        "from sklearn.metrics import roc_curve"
      ],
      "execution_count": null,
      "outputs": []
    },
    {
      "cell_type": "code",
      "metadata": {
        "id": "HffdbOPK2uYB"
      },
      "source": [
        "# this method will show us the details of each model\n",
        "# which will help us in deciding the best model\n",
        "\n",
        "def best_model(model):\n",
        "  print(model.best_score_)\n",
        "  print(model.best_params_)\n",
        "  print(model.best_estimator_)"
      ],
      "execution_count": null,
      "outputs": []
    },
    {
      "cell_type": "code",
      "metadata": {
        "colab": {
          "base_uri": "https://localhost:8080/"
        },
        "id": "GU0BJ-5x20hU",
        "outputId": "92cdc57b-247c-4116-ee6b-2af1427d424a"
      },
      "source": [
        "# Random Forest Classifier\n",
        "# Finding the best parameters to apply to RF classifier\n",
        "import time\n",
        "start_time = time.time()\n",
        "\n",
        "parameters = {'max_depth': [6, 7, 8, 9, 10],\n",
        "              'max_features': [5, 6, 7, 8, 9],\n",
        "              'n_estimators':[10, 50, 100],\n",
        "              'min_samples_split': [3, 5, 6, 7]}\n",
        "\n",
        "RF_grid_model = GridSearchCV(RandomForestClassifier(),\n",
        "                             parameters,\n",
        "                             cv=10,\n",
        "                             refit=True,\n",
        "                             verbose=0)\n",
        "\n",
        "RF_grid_model.fit(data_train.loc[:, data_train.columns != 'Exited'], data_train.Exited)\n",
        "\n",
        "print('[INFO] Time taken: %.1f seconds.\\n' % (time.time() - start_time))\n",
        "\n",
        "best_model(RF_grid_model)"
      ],
      "execution_count": null,
      "outputs": [
        {
          "output_type": "stream",
          "text": [
            "[INFO] Time taken: 1644.6 seconds.\n",
            "\n",
            "0.8644999999999999\n",
            "{'max_depth': 9, 'max_features': 8, 'min_samples_split': 6, 'n_estimators': 50}\n",
            "RandomForestClassifier(bootstrap=True, ccp_alpha=0.0, class_weight=None,\n",
            "                       criterion='gini', max_depth=9, max_features=8,\n",
            "                       max_leaf_nodes=None, max_samples=None,\n",
            "                       min_impurity_decrease=0.0, min_impurity_split=None,\n",
            "                       min_samples_leaf=1, min_samples_split=6,\n",
            "                       min_weight_fraction_leaf=0.0, n_estimators=50,\n",
            "                       n_jobs=None, oob_score=False, random_state=None,\n",
            "                       verbose=0, warm_start=False)\n"
          ],
          "name": "stdout"
        }
      ]
    },
    {
      "cell_type": "code",
      "metadata": {
        "colab": {
          "base_uri": "https://localhost:8080/"
        },
        "id": "fg-cMMjt2743",
        "outputId": "e39b901f-3957-4fdc-b53e-a819d545fa17"
      },
      "source": [
        "# Random Forest classifier\n",
        "\n",
        "rf_model = RandomForestClassifier(bootstrap=True, ccp_alpha=0.0, class_weight=None,\n",
        "                       criterion='gini', max_depth=9, max_features=8,\n",
        "                       max_leaf_nodes=None, max_samples=None,\n",
        "                       min_impurity_decrease=0.0, min_impurity_split=None,\n",
        "                       min_samples_leaf=1, min_samples_split=6,\n",
        "                       min_weight_fraction_leaf=0.0, n_estimators=50,\n",
        "                       n_jobs=None, oob_score=False, random_state=None,\n",
        "                       verbose=0, warm_start=False)\n",
        "X_train = data_train.loc[:, data_train.columns != 'Exited']\n",
        "Y_train = data_train.Exited\n",
        "rf_model.fit(X_train,Y_train)\n",
        "print(Y_train)\n",
        "y_pred = rf_model.predict(X_train)\n",
        "print(y_pred)"
      ],
      "execution_count": null,
      "outputs": [
        {
          "output_type": "stream",
          "text": [
            "8018    1\n",
            "9225    0\n",
            "3854    0\n",
            "2029    0\n",
            "3539    0\n",
            "       ..\n",
            "1110    1\n",
            "4970    0\n",
            "8878    1\n",
            "580     0\n",
            "6219    0\n",
            "Name: Exited, Length: 8000, dtype: int64\n",
            "[0 0 0 ... 1 0 0]\n"
          ],
          "name": "stdout"
        }
      ]
    },
    {
      "cell_type": "code",
      "metadata": {
        "colab": {
          "base_uri": "https://localhost:8080/"
        },
        "id": "CPHEPcdc2v-G",
        "outputId": "75343de4-08da-46b5-ac7e-0607b5d8ad45"
      },
      "source": [
        "confusion_matrix(Y_train, y_pred)"
      ],
      "execution_count": null,
      "outputs": [
        {
          "output_type": "execute_result",
          "data": {
            "text/plain": [
              "array([[6269,  113],\n",
              "       [ 709,  909]])"
            ]
          },
          "metadata": {
            "tags": []
          },
          "execution_count": 34
        }
      ]
    },
    {
      "cell_type": "code",
      "metadata": {
        "colab": {
          "base_uri": "https://localhost:8080/"
        },
        "id": "WOXl2L_gH-yn",
        "outputId": "4bb8c116-8c10-499a-ecd6-8646aa6071f2"
      },
      "source": [
        "print('[INFO] Random Forest classifier:\\n')\n",
        "print(classification_report(data_train.Exited, rf_model.predict(data_train.loc[:, data_train.columns != 'Exited'])))"
      ],
      "execution_count": null,
      "outputs": [
        {
          "output_type": "stream",
          "text": [
            "[INFO] Random Forest classifier:\n",
            "\n",
            "              precision    recall  f1-score   support\n",
            "\n",
            "           0       0.90      0.98      0.94      6382\n",
            "           1       0.88      0.56      0.69      1618\n",
            "\n",
            "    accuracy                           0.90      8000\n",
            "   macro avg       0.89      0.77      0.81      8000\n",
            "weighted avg       0.89      0.90      0.89      8000\n",
            "\n"
          ],
          "name": "stdout"
        }
      ]
    },
    {
      "cell_type": "code",
      "metadata": {
        "id": "ZiDimIGiIKHh",
        "colab": {
          "base_uri": "https://localhost:8080/",
          "height": 215
        },
        "outputId": "1e86719c-ed20-44ca-bb2c-5a3a38692a9c"
      },
      "source": [
        "data_test = data_test[['Exited'] + continuous_vars + categorical_vars]\n",
        "\n",
        "# Change the 0 in categorical variables to -1\n",
        "\n",
        "data_test.loc[data_test.HasCrCard == 0, 'HasCrCard'] = -1\n",
        "data_test.loc[data_test.IsActiveMember == 0, 'IsActiveMember'] = -1\n",
        "\n",
        "# One hot encode the categorical variables\n",
        "\n",
        "var_list = ['Geography', 'Gender']\n",
        "\n",
        "for var in var_list:\n",
        "  for val in data_test[var].unique():\n",
        "    data_test[var + '_' + val] = np.where(data_test[var] == val, 1, -1)\n",
        "\n",
        "data_test = data_test.drop(var_list, axis=1)\n",
        "\n",
        "# Ensure that all one hot encoded variables that appear in the train data appear in the subsequent data\n",
        "\n",
        "columns_list = list(set(data_train.columns) - set(data_test.columns))\n",
        "\n",
        "for column in columns_list:\n",
        "    data_test[str(column)] = -1\n",
        "\n",
        "# MinMax scaling of the continuous variables based on min and max from the train data\n",
        "\n",
        "data_test[continuous_vars] = (data_test[continuous_vars] - min_values) / (max_values - min_values)\n",
        "\n",
        "# Ensure that The variables are ordered in the same way as was ordered in the train set\n",
        "\n",
        "data_test = data_test[data_train.columns]\n",
        "data_test.head()"
      ],
      "execution_count": null,
      "outputs": [
        {
          "output_type": "execute_result",
          "data": {
            "text/html": [
              "<div>\n",
              "<style scoped>\n",
              "    .dataframe tbody tr th:only-of-type {\n",
              "        vertical-align: middle;\n",
              "    }\n",
              "\n",
              "    .dataframe tbody tr th {\n",
              "        vertical-align: top;\n",
              "    }\n",
              "\n",
              "    .dataframe thead th {\n",
              "        text-align: right;\n",
              "    }\n",
              "</style>\n",
              "<table border=\"1\" class=\"dataframe\">\n",
              "  <thead>\n",
              "    <tr style=\"text-align: right;\">\n",
              "      <th></th>\n",
              "      <th>Exited</th>\n",
              "      <th>CreditScore</th>\n",
              "      <th>Age</th>\n",
              "      <th>Tenure</th>\n",
              "      <th>Balance</th>\n",
              "      <th>NumOfProducts</th>\n",
              "      <th>EstimatedSalary</th>\n",
              "      <th>HasCrCard</th>\n",
              "      <th>IsActiveMember</th>\n",
              "      <th>Geography_Germany</th>\n",
              "      <th>Geography_France</th>\n",
              "      <th>Geography_Spain</th>\n",
              "      <th>Gender_Male</th>\n",
              "      <th>Gender_Female</th>\n",
              "    </tr>\n",
              "  </thead>\n",
              "  <tbody>\n",
              "    <tr>\n",
              "      <th>2</th>\n",
              "      <td>1</td>\n",
              "      <td>0.304</td>\n",
              "      <td>0.324324</td>\n",
              "      <td>0.8</td>\n",
              "      <td>0.636357</td>\n",
              "      <td>0.666667</td>\n",
              "      <td>0.569654</td>\n",
              "      <td>1</td>\n",
              "      <td>-1</td>\n",
              "      <td>-1</td>\n",
              "      <td>1</td>\n",
              "      <td>-1</td>\n",
              "      <td>-1</td>\n",
              "      <td>1</td>\n",
              "    </tr>\n",
              "    <tr>\n",
              "      <th>6</th>\n",
              "      <td>0</td>\n",
              "      <td>0.944</td>\n",
              "      <td>0.432432</td>\n",
              "      <td>0.7</td>\n",
              "      <td>0.000000</td>\n",
              "      <td>0.333333</td>\n",
              "      <td>0.050261</td>\n",
              "      <td>1</td>\n",
              "      <td>1</td>\n",
              "      <td>-1</td>\n",
              "      <td>1</td>\n",
              "      <td>-1</td>\n",
              "      <td>1</td>\n",
              "      <td>-1</td>\n",
              "    </tr>\n",
              "    <tr>\n",
              "      <th>7</th>\n",
              "      <td>1</td>\n",
              "      <td>0.052</td>\n",
              "      <td>0.148649</td>\n",
              "      <td>0.4</td>\n",
              "      <td>0.458540</td>\n",
              "      <td>1.000000</td>\n",
              "      <td>0.596733</td>\n",
              "      <td>1</td>\n",
              "      <td>-1</td>\n",
              "      <td>1</td>\n",
              "      <td>-1</td>\n",
              "      <td>-1</td>\n",
              "      <td>-1</td>\n",
              "      <td>1</td>\n",
              "    </tr>\n",
              "    <tr>\n",
              "      <th>18</th>\n",
              "      <td>0</td>\n",
              "      <td>0.474</td>\n",
              "      <td>0.364865</td>\n",
              "      <td>0.6</td>\n",
              "      <td>0.000000</td>\n",
              "      <td>0.000000</td>\n",
              "      <td>0.793442</td>\n",
              "      <td>-1</td>\n",
              "      <td>-1</td>\n",
              "      <td>-1</td>\n",
              "      <td>-1</td>\n",
              "      <td>1</td>\n",
              "      <td>1</td>\n",
              "      <td>-1</td>\n",
              "    </tr>\n",
              "    <tr>\n",
              "      <th>24</th>\n",
              "      <td>0</td>\n",
              "      <td>0.992</td>\n",
              "      <td>0.270270</td>\n",
              "      <td>0.5</td>\n",
              "      <td>0.000000</td>\n",
              "      <td>0.000000</td>\n",
              "      <td>0.938112</td>\n",
              "      <td>1</td>\n",
              "      <td>1</td>\n",
              "      <td>-1</td>\n",
              "      <td>1</td>\n",
              "      <td>-1</td>\n",
              "      <td>-1</td>\n",
              "      <td>1</td>\n",
              "    </tr>\n",
              "  </tbody>\n",
              "</table>\n",
              "</div>"
            ],
            "text/plain": [
              "    Exited  CreditScore       Age  ...  Geography_Spain  Gender_Male  Gender_Female\n",
              "2        1        0.304  0.324324  ...               -1           -1              1\n",
              "6        0        0.944  0.432432  ...               -1            1             -1\n",
              "7        1        0.052  0.148649  ...               -1           -1              1\n",
              "18       0        0.474  0.364865  ...                1            1             -1\n",
              "24       0        0.992  0.270270  ...               -1           -1              1\n",
              "\n",
              "[5 rows x 14 columns]"
            ]
          },
          "metadata": {
            "tags": []
          },
          "execution_count": 27
        }
      ]
    },
    {
      "cell_type": "code",
      "metadata": {
        "colab": {
          "base_uri": "https://localhost:8080/"
        },
        "id": "1NVv6OyjKx-t",
        "outputId": "08f7fe1a-98d7-4fb0-e7e2-2df9313acf23"
      },
      "source": [
        "# mask infinite values and delete not available or missing values from columns\n",
        "\n",
        "data_test = data_test.mask(np.isinf(data_test))\n",
        "data_test = data_test.dropna()\n",
        "\n",
        "print(data_test.shape)"
      ],
      "execution_count": null,
      "outputs": [
        {
          "output_type": "stream",
          "text": [
            "(2000, 14)\n"
          ],
          "name": "stdout"
        }
      ]
    },
    {
      "cell_type": "code",
      "metadata": {
        "colab": {
          "base_uri": "https://localhost:8080/"
        },
        "id": "ig7lU0sWK7U7",
        "outputId": "1bf7d528-2597-4950-9c3b-7bec714a1534"
      },
      "source": [
        "# classification report for the test data\n",
        "\n",
        "print(classification_report(data_test.Exited,  rf_model.predict(data_test.loc[:, data_test.columns != 'Exited'])))"
      ],
      "execution_count": null,
      "outputs": [
        {
          "output_type": "stream",
          "text": [
            "              precision    recall  f1-score   support\n",
            "\n",
            "           0       0.88      0.97      0.92      1581\n",
            "           1       0.80      0.49      0.61       419\n",
            "\n",
            "    accuracy                           0.87      2000\n",
            "   macro avg       0.84      0.73      0.77      2000\n",
            "weighted avg       0.86      0.87      0.86      2000\n",
            "\n"
          ],
          "name": "stdout"
        }
      ]
    },
    {
      "cell_type": "code",
      "metadata": {
        "id": "4vAG70o-LEkw"
      },
      "source": [
        "def get_roc(y, predict_vals, prob_values):\n",
        "  roc_score = roc_auc_score(y, predict_vals)\n",
        "  false_positives, true_positives, _ = roc_curve(y, prob_values)\n",
        "  return (roc_score, false_positives, true_positives)\n",
        "\n",
        "# calculate the ROC score, false positives, and true positives\n",
        "\n",
        "roc_rf_test, false_rf_test, true_rf_test = get_roc(data_test.Exited,\n",
        "                                                   rf_model.predict(data_test.loc[:, data_test.columns != 'Exited']),\n",
        "                                                   rf_model.predict_proba(data_test.loc[:, data_test.columns != 'Exited'])[:,1])"
      ],
      "execution_count": null,
      "outputs": []
    },
    {
      "cell_type": "code",
      "metadata": {
        "colab": {
          "base_uri": "https://localhost:8080/",
          "height": 404
        },
        "id": "aYtQ3jsqMsce",
        "outputId": "0c2633f8-0b2e-4947-e78a-64036a3431b7"
      },
      "source": [
        "plt.figure(figsize = (12,6), linewidth = 2)\n",
        "\n",
        "plt.plot(false_rf_test,\n",
        "         true_rf_test,\n",
        "         label = 'RF: ' + str(round(roc_rf_test, 4)))\n",
        "\n",
        "plt.plot([0, 1], [0, 1], 'k--', label = 'Random: 0.5')\n",
        "\n",
        "plt.xlabel('False Positive Rate')\n",
        "plt.ylabel('True Positive Rate')\n",
        "plt.title('ROC Curve')\n",
        "plt.legend(loc='best')\n",
        "\n",
        "plt.show()"
      ],
      "execution_count": null,
      "outputs": [
        {
          "output_type": "display_data",
          "data": {
            "image/png": "[encoded data removed]",
            "text/plain": [
              "<Figure size 864x432 with 1 Axes>"
            ]
          },
          "metadata": {
            "tags": [],
            "needs_background": "light"
          }
        }
      ]
    },
    {
      "cell_type": "code",
      "metadata": {
        "id": "GBBg6obrS0iS"
      },
      "source": [],
      "execution_count": null,
      "outputs": []
    }
  ]
}